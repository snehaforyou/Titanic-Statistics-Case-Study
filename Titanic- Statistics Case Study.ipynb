{
 "cells": [
  {
   "cell_type": "markdown",
   "id": "302dd0e5-d64a-47ac-8751-8c0409eac4e3",
   "metadata": {},
   "source": [
    "## Titanic Dataset\n",
    "\n",
    "The sinking of the Titanic is one of the most infamous shipwrecks in history. On April 15, 1912, during her maiden voyage, the widely considered “unsinkable” RMS Titanic sank after colliding with an iceberg. Unfortunately, there weren’t enough lifeboats for everyone on board, resulting in the death of 1502 out of 2224 passengers and crew. While there was some element of luck involved in surviving, it seems some groups of people were more likely to survive than others.\r\n",
    "\r\n",
    "Feature Details: \r\n",
    "\r\n",
    "Varia   ble Defini\n",
    "1. survival - Survival (0 = No, 1 = Yes)\n",
    "2. pclass - Ticket class (1 = 1st, 2 = 2nd, 3 = 3rd)\n",
    "3. sex - Sex (0 = Female, 1 = Male)\n",
    "4. Age - Age in years\n",
    "5. sibsp - # of siblings / spouses aboard the Titanic\n",
    "6. parch - # of parents / children aboard the Titanic\n",
    "7. ticket - Ticket number\n",
    "8. fare - Passenger fare\n",
    "9. cabin - Cabin number\n",
    "10. embarked - Port of Embarkation (C = Cherbourg , Q = Queenstown , S=Southampton)"
   ]
  },
  {
   "cell_type": "markdown",
   "id": "02591cac-2397-4f7c-aba7-ce66c30575a2",
   "metadata": {},
   "source": [
    "1. Mean Age of Survivors :\n",
    " \r\n",
    "Given File 'titanic.csv' Problem Statement: From the dataset, find the mean age of the people who did not survive. In the dataset, For Survived = 0 means the passenger has not survived.\r\n",
    "\r\n",
    "For Survived = 1 means the passenger has survived.\r\n",
    "\r\n",
    "Output Format: Print the mean rounded off to two decimal places."
   ]
  },
  {
   "cell_type": "code",
   "execution_count": null,
   "id": "a21789d7-69d1-44aa-8a3b-eca214648f2f",
   "metadata": {},
   "outputs": [],
   "source": [
    "import pandas as pd\n",
    "\n",
    "titanic_data = pd.read_csv('titanic.csv')\n",
    "\n",
    "not_survived = titanic_data[titanic_data['Survived'] == 0]\n",
    "mean_age_not_survived = not_survived['Age'].mean()\n",
    "\n",
    "print(f\"{mean_age_not_survived:.2f}\")"
   ]
  },
  {
   "cell_type": "markdown",
   "id": "23cd88f3-e61e-4fd0-a114-616da97f6b38",
   "metadata": {},
   "source": [
    "2. Percentage of Survivors :\n",
    " \r\n",
    "Given File 'titanic.csv' Problem Statement: From the dataset, find the following:\r\n",
    "\r\n",
    "1.Percentage of Passengers Survived. 2.Of the total survived passengers what percentage are the male passengers. 3.Of the total survived passengers what percentage are the female passengers.\r\n",
    "\r\n",
    "In the dataset, For Survived = 0 means the passenger has not survived.\r\n",
    "\r\n",
    "For Survived = 1 means the passenger has survived.\r\n",
    "\r\n",
    "For Sex = 1 means the passenger is male.\r\n",
    "\r\n",
    "For Sex = 0 means the passenger is Female.\r\n",
    "\r\n",
    "Output Format: Print the percentages rounded off to two decimal places in separate lines."
   ]
  },
  {
   "cell_type": "code",
   "execution_count": null,
   "id": "91ab16cb-105c-4ba3-8172-e5c4976df5d5",
   "metadata": {},
   "outputs": [],
   "source": [
    "import pandas as pd\n",
    "\n",
    "titanic_data = pd.read_csv('titanic.csv')\n",
    "\n",
    "total_passengers = len(titanic_data)\n",
    "percentage_survived = (titanic_data['Survived'].sum() / total_passengers) * 100\n",
    "\n",
    "male_survived = titanic_data[(titanic_data['Survived'] == 1) & (titanic_data['Sex'] == 1)]\n",
    "percentage_male_survived = (len(male_survived) / titanic_data['Survived'].sum()) * 100\n",
    "\n",
    "female_survived = titanic_data[(titanic_data['Survived'] == 1) & (titanic_data['Sex'] == 0)]\n",
    "percentage_female_survived = (len(female_survived) / titanic_data['Survived'].sum()) * 100\n",
    "\n",
    "print(f\"{percentage_survived:.2f}\")\n",
    "print(f\"{percentage_male_survived:.2f}\")\n",
    "print(f\"{percentage_female_survived:.2f}\")"
   ]
  },
  {
   "cell_type": "markdown",
   "id": "e2959782-0069-4d77-8ecc-f5428e209edf",
   "metadata": {},
   "source": [
    "3. Highest Correlation :\n",
    " \r\n",
    "Given File 'titanic.csv'\r\n",
    "\r\n",
    "Problem Statement: From the dataset, find the variable having the highest correlation with the Survival rate.\r\n",
    "\r\n",
    "Note: Survival rate is denoted by the \"Survived\" column.\r\n",
    "\r\n",
    "Output Format: Print the column name having the highest correlation with the Survived column. Print the absolute value of the correlation of this column rounded off to two decimal places. These values should be separated by a new line."
   ]
  },
  {
   "cell_type": "code",
   "execution_count": null,
   "id": "3a7f1d8e-32ce-40df-a061-83e2a273b9ec",
   "metadata": {},
   "outputs": [],
   "source": [
    "import pandas as pd\n",
    "\n",
    "titanic_data = pd.read_csv('titanic.csv')\n",
    "\n",
    "correlations = titanic_data.corr()['Survived'].abs().sort_values(ascending=False)\n",
    "\n",
    "highest_correlation_column = correlations.index[1]\n",
    "\n",
    "correlation_value = round(correlations.iloc[1], 2)\n",
    "\n",
    "print(highest_correlation_column)\n",
    "print(correlation_value)"
   ]
  },
  {
   "cell_type": "markdown",
   "id": "384e25d7-9da9-460a-9269-8dec2c0e4a0c",
   "metadata": {},
   "source": [
    "4. Calculate IQR :\n",
    " \r\n",
    "Given File 'titanic.csv'\r\n",
    "\r\n",
    "Problem Statement: From the dataset, Calculate the IQR for the Age column. In the dataset, there are some null values present for the Age column. First, remove those and then calculate the IQR.\r\n",
    "\r\n",
    "Output Format: Print the IQR of Age, rounded off to two decimal places."
   ]
  },
  {
   "cell_type": "code",
   "execution_count": null,
   "id": "3fa8cae6-c429-4e85-b494-d9d987772714",
   "metadata": {},
   "outputs": [],
   "source": [
    "import pandas as pd\n",
    "import numpy as np\n",
    "\n",
    "titanic_data = pd.read_csv('titanic.csv')\n",
    "\n",
    "Q1 = np.percentile(titanic_data[\"Age\"]._get_numeric_data().dropna(),25,interpolation = 'midpoint')\n",
    "Q3= np.percentile(titanic_data[\"Age\"]._get_numeric_data().dropna(),75,interpolation = 'midpoint')\n",
    "\n",
    "iqr = Q3-Q1\n",
    "\n",
    "print(f\"{iqr:.2f}\")"
   ]
  },
  {
   "cell_type": "markdown",
   "id": "9aaa31b5-fb0a-4850-8caa-a1ae37ec0d57",
   "metadata": {},
   "source": [
    "5. Analyze the Hypothesis :\n",
    " \r\n",
    "Given File 'titanic.csv'\r\n",
    "\r\n",
    "Problem Statement: From the dataset, find out if there is a significant difference in the mean sex between the passenger who survived and the passenger who did not survive?.\r\n",
    "\r\n",
    "In the dataset, For Survived = 0 means the passenger has not survived.\r\n",
    "\r\n",
    "For Survived = 1 means the passenger has survived.\r\n",
    "\r\n",
    "Output Format: Print \"Yes\" if there is a significant difference otherwise print \"No\". Here for significant difference, the mean should vary by 2 points at least."
   ]
  },
  {
   "cell_type": "code",
   "execution_count": null,
   "id": "0936e1ec-1edf-447b-8391-aadfcca039f9",
   "metadata": {},
   "outputs": [],
   "source": [
    "import pandas as pd\n",
    "import numpy as np\n",
    "from matplotlib import pyplot as plt\n",
    "import random\n",
    "\n",
    "titanic_data = pd.read_csv('titanic.csv')\n",
    "\n",
    "mean_sex_survived = titanic_data[titanic_data['Survived'] == 1]['Sex'].mean()\n",
    "mean_sex_not_survived = titanic_data[titanic_data['Survived'] == 0]['Sex'].mean()\n",
    "\n",
    "if abs(mean_sex_survived - mean_sex_not_survived) >= 2:\n",
    "    print(\"Yes\")\n",
    "else:\n",
    "    print(\"No\")"
   ]
  }
 ],
 "metadata": {
  "kernelspec": {
   "display_name": "Python 3 (ipykernel)",
   "language": "python",
   "name": "python3"
  },
  "language_info": {
   "codemirror_mode": {
    "name": "ipython",
    "version": 3
   },
   "file_extension": ".py",
   "mimetype": "text/x-python",
   "name": "python",
   "nbconvert_exporter": "python",
   "pygments_lexer": "ipython3",
   "version": "3.11.7"
  }
 },
 "nbformat": 4,
 "nbformat_minor": 5
}
